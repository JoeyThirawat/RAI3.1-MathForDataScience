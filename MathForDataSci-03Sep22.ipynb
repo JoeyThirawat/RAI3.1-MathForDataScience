{
 "cells": [
  {
   "cell_type": "code",
   "execution_count": 1,
   "id": "12508a4f",
   "metadata": {},
   "outputs": [],
   "source": [
    "import numpy as np"
   ]
  },
  {
   "cell_type": "code",
   "execution_count": 2,
   "id": "00448fef",
   "metadata": {},
   "outputs": [
    {
     "name": "stdout",
     "output_type": "stream",
     "text": [
      "[[ -2.          -3.33333333]\n",
      " [  4.           4.66666667]\n",
      " [-10.33333333  -2.33333333]]\n"
     ]
    }
   ],
   "source": [
    "# EX 01\n",
    "A1 = np.matrix([[8, 0],\n",
    "              [4, -2],\n",
    "              [3, 6]])\n",
    "B1 = np.matrix([[2, -2],\n",
    "              [4, 2],\n",
    "              [-5, 1]])\n",
    "ansEx1 = (5*B1-2*A1)/3\n",
    "print(ansEx1)"
   ]
  },
  {
   "cell_type": "code",
   "execution_count": 3,
   "id": "a59c9bce",
   "metadata": {},
   "outputs": [
    {
     "name": "stdout",
     "output_type": "stream",
     "text": [
      "x =  2.0\n",
      "y =  9.0\n"
     ]
    }
   ],
   "source": [
    "# EX 02\n",
    "A2 = np.matrix([[7, 6],\n",
    "              [15, 14]])\n",
    "B2 = np.matrix([[3, -4],\n",
    "              [1, 2]])\n",
    "\n",
    "x = 0\n",
    "y = 0\n",
    "C2 = np.matrix([[x, 5],\n",
    "              [7, y-3]])\n",
    "\n",
    "matrixC2 = (A2 - B2)/2\n",
    "ansEx2 = matrixC2 - C2\n",
    "\n",
    "xEx2 = ansEx2[0,0]\n",
    "yEx2 = ansEx2[1,1]\n",
    "print(\"x = \", xEx2)\n",
    "print(\"y = \", yEx2)"
   ]
  },
  {
   "cell_type": "code",
   "execution_count": null,
   "id": "7438e130",
   "metadata": {},
   "outputs": [],
   "source": []
  }
 ],
 "metadata": {
  "kernelspec": {
   "display_name": "Python 3 (ipykernel)",
   "language": "python",
   "name": "python3"
  },
  "language_info": {
   "codemirror_mode": {
    "name": "ipython",
    "version": 3
   },
   "file_extension": ".py",
   "mimetype": "text/x-python",
   "name": "python",
   "nbconvert_exporter": "python",
   "pygments_lexer": "ipython3",
   "version": "3.9.12"
  }
 },
 "nbformat": 4,
 "nbformat_minor": 5
}
